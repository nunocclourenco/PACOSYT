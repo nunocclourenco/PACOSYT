{
 "cells": [
  {
   "cell_type": "code",
   "execution_count": 5,
   "metadata": {},
   "outputs": [],
   "source": [
    "import pickle\n",
    "\n",
    "import em\n",
    "import models\n"
   ]
  },
  {
   "cell_type": "markdown",
   "metadata": {},
   "source": [
    "# Transformer 0.65um \n",
    "\n",
    "\n",
    "Octagonal transformer in TSMC 65 um. 1T + overlaped (balun)\n"
   ]
  },
  {
   "cell_type": "code",
   "execution_count": 6,
   "metadata": {},
   "outputs": [
    {
     "name": "stdout",
     "output_type": "stream",
     "text": [
      "Subspace: (1, 1, '_balun')\n",
      "55 : 19.40376396940827\n",
      "56 : 16.09631900602829\n",
      "84 : 74.22541569448629\n",
      "129 : 22.669634594616056\n",
      "176 : 27.275822452352067\n",
      "190 : 10.744258454758821\n",
      "Subspace: (1, 1, '')\n",
      "82 : 17.726241371104397\n",
      "98 : 19.24524820633869\n",
      "123 : 24.02288464268923\n",
      "127 : 28.37229027220888\n",
      "129 : 83.72654816525254\n",
      "133 : 13.083900948373897\n",
      "135 : 22.963034043985434\n",
      "138 : 14.294732772167446\n",
      "140 : 52.079537826142506\n",
      "145 : 102.95439724217788\n",
      "157 : 40.98120917195839\n",
      "163 : 289.66292442795515\n",
      "164 : 11.67450904952581\n",
      "165 : 11.53480232531519\n",
      "169 : 44.001709226389494\n",
      "170 : 16.263818929113985\n",
      "171 : 16.014568984672906\n",
      "173 : 15.798783825603907\n",
      "174 : 42.24312738942061\n",
      "175 : 24.663395630831577\n",
      "180 : 66.69757370082712\n",
      "185 : 10.627053143128338\n",
      "190 : 14.088845056295613\n",
      "192 : 25.985383640314282\n",
      "193 : 33.70107366816773\n",
      "194 : 141.5860913685268\n",
      "198 : 11.13388783763648\n",
      "200 : 11.168639199822428\n"
     ]
    }
   ],
   "source": [
    "#turn and freq independent @ 28GHz SRF > 38GHz\n",
    "sub_spaces = [(1,1, \"_balun\"), (1,1, \"\")]\n",
    "\n",
    "def ranges(df_train, df_test):\n",
    "    df_test = df_test[df_test.Dinp > 30]\n",
    "    df_test = df_test[df_test.Wp > 5]\n",
    "    df_test = df_test[df_test.Dinp < 170 ]\n",
    "\n",
    "    return  df_train, df_test\n",
    "\n",
    "\n",
    "model_table = {}\n",
    "for subsp in sub_spaces:\n",
    "    print(f\"Subspace: {subsp}\")\n",
    "    for f in range(201):\n",
    "\n",
    "        freq, x_train, y_train, x_test, y_test, srf_data = models.load_data(\"../data/transf_65nm/\", f, srf=38, nt=subsp, n_samples=1000, filter=ranges)\n",
    "        \n",
    "        if 'balun' in subsp[2]:\n",
    "            m = models.RBFInterpolatorModel(degree=4)\n",
    "            m.fit(x_train[:,[0,1]], y_train)\n",
    "            pred = m.predict(x_test[:,[0,1]])\n",
    "        else:\n",
    "            m = models.RBFInterpolatorModel(degree=5)\n",
    "            m.fit(x_train, y_train)\n",
    "            pred = m.predict(x_test)\n",
    "\n",
    "        if (max_mean_error := max(em.mape_lq_diff(freq, pred, y_test)[0])) > 10 :\n",
    "            print(f\"{f} : {max_mean_error}\")\n",
    "\n",
    "        mdl = {\n",
    "                'freq_index': f,\n",
    "                'freq': freq[0],\n",
    "                'nt': subsp,\n",
    "                'RBFmodel': m\n",
    "        }\n",
    "        model_table[(subsp, f)] = mdl\n",
    "\n",
    "    srf_m = models.RBFInterpolatorModel(degree=3)\n",
    "    if 'balun' in subsp[2]:\n",
    "        srf_m.fit(srf_data[0][:, [0,1]], srf_data[1][:, [0]])\n",
    "    else:\n",
    "        srf_m.fit(srf_data[0], srf_data[1])\n",
    "        \n",
    "    srf_mdl = {\n",
    "            'srf_limit': 38,\n",
    "            'nt': subsp,\n",
    "            'RBFmodel': srf_m\n",
    "    }\n",
    "    model_table[(subsp, 'srf')] = srf_mdl\n",
    "\n",
    "\n",
    "\n",
    "\n",
    "\n"
   ]
  },
  {
   "cell_type": "code",
   "execution_count": 7,
   "metadata": {},
   "outputs": [],
   "source": [
    "\n",
    "model_table['inputs'] = ['Dinp', 'Wp', 'Dins', 'Ws']\n",
    "model_table['ouputs'] = em.COLUMNS_6P[1:]\n",
    "model_table['device'] = 'transf'\n",
    "model_table['ranges'] = {'dinp': (30, 190), 'wp': (4, 14), 'np': (1,1), 'dins': (30, 190), 'ws': (4, 14), 'ns': (1,1), 'freq': (0, 200)}\n",
    "model_table['key'] = {'nt':sub_spaces, 'f':(0, 201)}\n",
    "\n",
    "with open(\"../models/PASSIVES_RBF_TRANSF_BALUN_28G_SRF38.model\",'wb') as outfile:\n",
    "    pickle.dump(model_table, outfile)  "
   ]
  },
  {
   "cell_type": "code",
   "execution_count": 8,
   "metadata": {},
   "outputs": [],
   "source": [
    "import models\n",
    "\n",
    "tranf_model = models.AidaEmModel(\"../RBF_transf_28G_SRF38.model\")\n",
    "      \n",
    "with open(\"../test_out_in.sri\", 'w') as sri_file, open(\"../test_out_in.out\", 'w') as out_file:\n",
    "    tranf_model.predict(sri_file, out_file, np=1, ns=1, dinp=117, wp=7, dins=103, ws=12)"
   ]
  }
 ],
 "metadata": {
  "interpreter": {
   "hash": "0e5760e712c30506cacfbb8d55a91dfa6d917c7cae71b450333e4dc838792f2f"
  },
  "kernelspec": {
   "display_name": "Python 3 (ipykernel)",
   "language": "python",
   "name": "python3"
  },
  "language_info": {
   "codemirror_mode": {
    "name": "ipython",
    "version": 3
   },
   "file_extension": ".py",
   "mimetype": "text/x-python",
   "name": "python",
   "nbconvert_exporter": "python",
   "pygments_lexer": "ipython3",
   "version": "3.8.5"
  }
 },
 "nbformat": 4,
 "nbformat_minor": 2
}
