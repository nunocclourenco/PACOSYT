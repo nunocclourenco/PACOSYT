{
 "cells": [
  {
   "cell_type": "code",
   "execution_count": 1,
   "metadata": {},
   "outputs": [],
   "source": [
    "import pickle\n",
    "\n",
    "import em\n",
    "from models import RBFInterpolatorModel, load_data\n"
   ]
  },
  {
   "cell_type": "markdown",
   "metadata": {},
   "source": [
    "# Transformer 0.65um \n",
    "\n",
    "\n",
    "Octagonal transformer in TSMC 65 um. 1T + overlaped (balun)\n"
   ]
  },
  {
   "cell_type": "code",
   "execution_count": 2,
   "metadata": {},
   "outputs": [
    {
     "name": "stdout",
     "output_type": "stream",
     "text": [
      "Subspace: (1, 1, '_balun')\n",
      "Subspace: (1, 1, '')\n",
      "Subspace: (2, 2, '_balun')\n"
     ]
    },
    {
     "ename": "ValueError",
     "evalue": "Found array with 0 sample(s) (shape=(0, 2)) while a minimum of 1 is required by StandardScaler.",
     "output_type": "error",
     "traceback": [
      "\u001b[0;31m---------------------------------------------------------------------------\u001b[0m",
      "\u001b[0;31mValueError\u001b[0m                                Traceback (most recent call last)",
      "\u001b[1;32m/home/fpassos/EM_SIM/pacosyt/notebooks/models_transf_balun_srf38.ipynb Cell 3\u001b[0m in \u001b[0;36m<module>\u001b[0;34m\u001b[0m\n\u001b[1;32m     <a href='vscode-notebook-cell:/home/fpassos/EM_SIM/pacosyt/notebooks/models_transf_balun_srf38.ipynb#ch0000002?line=20'>21</a>\u001b[0m     m \u001b[39m=\u001b[39m RBFInterpolatorModel(degree\u001b[39m=\u001b[39m\u001b[39m4\u001b[39m)\n\u001b[1;32m     <a href='vscode-notebook-cell:/home/fpassos/EM_SIM/pacosyt/notebooks/models_transf_balun_srf38.ipynb#ch0000002?line=21'>22</a>\u001b[0m     m\u001b[39m.\u001b[39mfit(x_train[:,[\u001b[39m0\u001b[39m,\u001b[39m1\u001b[39m]], y_train)\n\u001b[0;32m---> <a href='vscode-notebook-cell:/home/fpassos/EM_SIM/pacosyt/notebooks/models_transf_balun_srf38.ipynb#ch0000002?line=22'>23</a>\u001b[0m     pred \u001b[39m=\u001b[39m m\u001b[39m.\u001b[39;49mpredict(x_test[:,[\u001b[39m0\u001b[39;49m,\u001b[39m1\u001b[39;49m]])\n\u001b[1;32m     <a href='vscode-notebook-cell:/home/fpassos/EM_SIM/pacosyt/notebooks/models_transf_balun_srf38.ipynb#ch0000002?line=23'>24</a>\u001b[0m \u001b[39melse\u001b[39;00m:\n\u001b[1;32m     <a href='vscode-notebook-cell:/home/fpassos/EM_SIM/pacosyt/notebooks/models_transf_balun_srf38.ipynb#ch0000002?line=24'>25</a>\u001b[0m     m \u001b[39m=\u001b[39m RBFInterpolatorModel(degree\u001b[39m=\u001b[39m\u001b[39m5\u001b[39m)\n",
      "File \u001b[0;32m~/EM_SIM/pacosyt/src/models/models_scipy.py:40\u001b[0m, in \u001b[0;36mRBFInterpolatorModel.predict\u001b[0;34m(self, x)\u001b[0m\n\u001b[1;32m     39\u001b[0m \u001b[39mdef\u001b[39;00m \u001b[39mpredict\u001b[39m(\u001b[39mself\u001b[39m, x):\n\u001b[0;32m---> 40\u001b[0m     x \u001b[39m=\u001b[39m \u001b[39mself\u001b[39;49m\u001b[39m.\u001b[39;49mx_scaler\u001b[39m.\u001b[39;49mtransform(x)\n\u001b[1;32m     41\u001b[0m     \u001b[39mreturn\u001b[39;00m \u001b[39mself\u001b[39m\u001b[39m.\u001b[39mmodel(x)\n",
      "File \u001b[0;32m~/py38env/lib/python3.8/site-packages/sklearn/preprocessing/_data.py:973\u001b[0m, in \u001b[0;36mStandardScaler.transform\u001b[0;34m(self, X, copy)\u001b[0m\n\u001b[1;32m    970\u001b[0m check_is_fitted(\u001b[39mself\u001b[39m)\n\u001b[1;32m    972\u001b[0m copy \u001b[39m=\u001b[39m copy \u001b[39mif\u001b[39;00m copy \u001b[39mis\u001b[39;00m \u001b[39mnot\u001b[39;00m \u001b[39mNone\u001b[39;00m \u001b[39melse\u001b[39;00m \u001b[39mself\u001b[39m\u001b[39m.\u001b[39mcopy\n\u001b[0;32m--> 973\u001b[0m X \u001b[39m=\u001b[39m \u001b[39mself\u001b[39;49m\u001b[39m.\u001b[39;49m_validate_data(\n\u001b[1;32m    974\u001b[0m     X,\n\u001b[1;32m    975\u001b[0m     reset\u001b[39m=\u001b[39;49m\u001b[39mFalse\u001b[39;49;00m,\n\u001b[1;32m    976\u001b[0m     accept_sparse\u001b[39m=\u001b[39;49m\u001b[39m\"\u001b[39;49m\u001b[39mcsr\u001b[39;49m\u001b[39m\"\u001b[39;49m,\n\u001b[1;32m    977\u001b[0m     copy\u001b[39m=\u001b[39;49mcopy,\n\u001b[1;32m    978\u001b[0m     estimator\u001b[39m=\u001b[39;49m\u001b[39mself\u001b[39;49m,\n\u001b[1;32m    979\u001b[0m     dtype\u001b[39m=\u001b[39;49mFLOAT_DTYPES,\n\u001b[1;32m    980\u001b[0m     force_all_finite\u001b[39m=\u001b[39;49m\u001b[39m\"\u001b[39;49m\u001b[39mallow-nan\u001b[39;49m\u001b[39m\"\u001b[39;49m,\n\u001b[1;32m    981\u001b[0m )\n\u001b[1;32m    983\u001b[0m \u001b[39mif\u001b[39;00m sparse\u001b[39m.\u001b[39missparse(X):\n\u001b[1;32m    984\u001b[0m     \u001b[39mif\u001b[39;00m \u001b[39mself\u001b[39m\u001b[39m.\u001b[39mwith_mean:\n",
      "File \u001b[0;32m~/py38env/lib/python3.8/site-packages/sklearn/base.py:566\u001b[0m, in \u001b[0;36mBaseEstimator._validate_data\u001b[0;34m(self, X, y, reset, validate_separately, **check_params)\u001b[0m\n\u001b[1;32m    564\u001b[0m     \u001b[39mraise\u001b[39;00m \u001b[39mValueError\u001b[39;00m(\u001b[39m\"\u001b[39m\u001b[39mValidation should be done on X, y or both.\u001b[39m\u001b[39m\"\u001b[39m)\n\u001b[1;32m    565\u001b[0m \u001b[39melif\u001b[39;00m \u001b[39mnot\u001b[39;00m no_val_X \u001b[39mand\u001b[39;00m no_val_y:\n\u001b[0;32m--> 566\u001b[0m     X \u001b[39m=\u001b[39m check_array(X, \u001b[39m*\u001b[39;49m\u001b[39m*\u001b[39;49mcheck_params)\n\u001b[1;32m    567\u001b[0m     out \u001b[39m=\u001b[39m X\n\u001b[1;32m    568\u001b[0m \u001b[39melif\u001b[39;00m no_val_X \u001b[39mand\u001b[39;00m \u001b[39mnot\u001b[39;00m no_val_y:\n",
      "File \u001b[0;32m~/py38env/lib/python3.8/site-packages/sklearn/utils/validation.py:805\u001b[0m, in \u001b[0;36mcheck_array\u001b[0;34m(array, accept_sparse, accept_large_sparse, dtype, order, copy, force_all_finite, ensure_2d, allow_nd, ensure_min_samples, ensure_min_features, estimator)\u001b[0m\n\u001b[1;32m    803\u001b[0m     n_samples \u001b[39m=\u001b[39m _num_samples(array)\n\u001b[1;32m    804\u001b[0m     \u001b[39mif\u001b[39;00m n_samples \u001b[39m<\u001b[39m ensure_min_samples:\n\u001b[0;32m--> 805\u001b[0m         \u001b[39mraise\u001b[39;00m \u001b[39mValueError\u001b[39;00m(\n\u001b[1;32m    806\u001b[0m             \u001b[39m\"\u001b[39m\u001b[39mFound array with \u001b[39m\u001b[39m%d\u001b[39;00m\u001b[39m sample(s) (shape=\u001b[39m\u001b[39m%s\u001b[39;00m\u001b[39m) while a\u001b[39m\u001b[39m\"\u001b[39m\n\u001b[1;32m    807\u001b[0m             \u001b[39m\"\u001b[39m\u001b[39m minimum of \u001b[39m\u001b[39m%d\u001b[39;00m\u001b[39m is required\u001b[39m\u001b[39m%s\u001b[39;00m\u001b[39m.\u001b[39m\u001b[39m\"\u001b[39m\n\u001b[1;32m    808\u001b[0m             \u001b[39m%\u001b[39m (n_samples, array\u001b[39m.\u001b[39mshape, ensure_min_samples, context)\n\u001b[1;32m    809\u001b[0m         )\n\u001b[1;32m    811\u001b[0m \u001b[39mif\u001b[39;00m ensure_min_features \u001b[39m>\u001b[39m \u001b[39m0\u001b[39m \u001b[39mand\u001b[39;00m array\u001b[39m.\u001b[39mndim \u001b[39m==\u001b[39m \u001b[39m2\u001b[39m:\n\u001b[1;32m    812\u001b[0m     n_features \u001b[39m=\u001b[39m array\u001b[39m.\u001b[39mshape[\u001b[39m1\u001b[39m]\n",
      "\u001b[0;31mValueError\u001b[0m: Found array with 0 sample(s) (shape=(0, 2)) while a minimum of 1 is required by StandardScaler."
     ]
    }
   ],
   "source": [
    "#turn and freq independent @ 28GHz SRF > 38GHz\n",
    "sub_spaces = [(1,1, \"_balun\"), (1,1, \"\"), (2,2, \"_balun\"), (1,2, \"\"), (2,1, \"\")]\n",
    "\n",
    "\n",
    "def ranges(df_train, df_test):\n",
    "    df_test = df_test[df_test.Dinp > 30]\n",
    "    df_test = df_test[df_test.Wp > 5]\n",
    "    df_test = df_test[df_test.Dinp < 170 ]\n",
    "\n",
    "    return  df_train, df_test\n",
    "\n",
    "\n",
    "model_table = {}\n",
    "for subsp in sub_spaces:\n",
    "    print(f\"Subspace: {subsp}\")\n",
    "    for f in range(201):\n",
    "\n",
    "        freq, x_train, y_train, x_test, y_test, srf_data = load_data(\"../data/transf_65nm/\", f, srf=3, nt=subsp, n_samples=1000, filter=ranges)\n",
    "        \n",
    "        if 'balun' in subsp[2]:\n",
    "            m = RBFInterpolatorModel(degree=4)\n",
    "            m.fit(x_train[:,[0,1]], y_train)\n",
    "            pred = m.predict(x_test[:,[0,1]])\n",
    "        else:\n",
    "            m = RBFInterpolatorModel(degree=5)\n",
    "            m.fit(x_train, y_train)\n",
    "            pred = m.predict(x_test)\n",
    "\n",
    "        if (max_mean_error := max(em.mape_lq_diff(freq, pred, y_test)[0])) > 10 :\n",
    "            print(f\"{f} : {max_mean_error}\")\n",
    "\n",
    "        mdl = {\n",
    "                'freq_index': f,\n",
    "                'freq': freq[0],\n",
    "                'nt': subsp,\n",
    "                'RBFmodel': m\n",
    "        }\n",
    "        model_table[(subsp, f)] = mdl\n",
    "\n",
    "    srf_m = RBFInterpolatorModel(degree=3)\n",
    "    if 'balun' in subsp[2]:\n",
    "        srf_m.fit(srf_data[0][:, [0,1]], srf_data[1][:, [0]])\n",
    "    else:\n",
    "        srf_m.fit(srf_data[0], srf_data[1])\n",
    "        \n",
    "    srf_mdl = {\n",
    "            'srf_limit': 3,\n",
    "            'nt': subsp,\n",
    "            'RBFmodel': srf_m\n",
    "    }\n",
    "    model_table[(subsp, 'srf')] = srf_mdl\n"
   ]
  },
  {
   "cell_type": "code",
   "execution_count": null,
   "metadata": {},
   "outputs": [],
   "source": [
    "model_table['inputs'] = ['Dinp', 'Wp', 'Dins', 'Ws']\n",
    "model_table['ouputs'] = em.COLUMNS_6P[1:]\n",
    "model_table['device'] = 'transf'\n",
    "model_table['model'] = 'transf'\n",
    "model_table['ranges'] = {'dinp': (30, 190), 'wp': (4, 14), 'np': (1,1), 'dins': (30, 190), 'ws': (4, 14), 'ns': (1,1), 'freq': (0, 200)}\n",
    "model_table['key'] = {'nt':sub_spaces, 'f':(0, 201)}\n",
    "\n",
    "with open(\"../PASSIVES_RBF_TRANSF_BALUN_28G_SRF38_v1.model\",'wb') as outfile:\n",
    "    pickle.dump(model_table, outfile)  "
   ]
  },
  {
   "cell_type": "code",
   "execution_count": null,
   "metadata": {},
   "outputs": [],
   "source": [
    "from models import PassivesModel\n",
    "\n",
    "tranf_model = PassivesModel(\"../PASSIVES_RBF_TRANSF_BALUN_28G_SRF38_v1.model\")\n",
    "resp, resp_arg = tranf_model.simulate(np=1, ns=1, dinp=117, wp=7, dins=40, ws=12) \n",
    "tranf_model.save(sri_fname=\"../test_out_in.sri\", lq_fname= \"../test_out_in.out\")\n",
    "tranf_model.plot()\n"
   ]
  },
  {
   "cell_type": "markdown",
   "metadata": {},
   "source": [
    "###### Copyright (C) 2022 Instituto de Telecomunicações & IMSE CSIC"
   ]
  }
 ],
 "metadata": {
  "kernelspec": {
   "display_name": "Python 3.8.5 ('py38env')",
   "language": "python",
   "name": "python3"
  },
  "language_info": {
   "codemirror_mode": {
    "name": "ipython",
    "version": 3
   },
   "file_extension": ".py",
   "mimetype": "text/x-python",
   "name": "python",
   "nbconvert_exporter": "python",
   "pygments_lexer": "ipython3",
   "version": "3.8.5"
  },
  "vscode": {
   "interpreter": {
    "hash": "9748f21e6de7edd35ba16c4ad604c5ab63165e362197e45a9f4680b926973bdc"
   }
  }
 },
 "nbformat": 4,
 "nbformat_minor": 2
}
