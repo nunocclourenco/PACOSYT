{
 "cells": [
  {
   "cell_type": "code",
   "execution_count": 2,
   "metadata": {},
   "outputs": [],
   "source": [
    "import pickle\n",
    "\n",
    "import models\n",
    "import em"
   ]
  },
  {
   "cell_type": "markdown",
   "metadata": {},
   "source": [
    "# Inductor GR 0.35um \n",
    "\n",
    "\n",
    "Octagonal inductor in AMS 350 um.\n"
   ]
  },
  {
   "cell_type": "code",
   "execution_count": 3,
   "metadata": {},
   "outputs": [],
   "source": [
    "with open('../RBF_inductor_5G_SRF7_200GHz_tmtt.model','rb') as infile:\n",
    "    model = pickle.load( infile)"
   ]
  },
  {
   "cell_type": "code",
   "execution_count": 5,
   "metadata": {},
   "outputs": [],
   "source": [
    "model['device'] = model.pop('model')\n",
    "model['ranges'] = {'din': (70, 180), 'w': (6, 14), 'nt': (1,5), 'freq': (0, 200)}"
   ]
  },
  {
   "cell_type": "code",
   "execution_count": 7,
   "metadata": {},
   "outputs": [
    {
     "name": "stdout",
     "output_type": "stream",
     "text": [
      "['Din', 'W']\n",
      "{'nt': [1, 2, 3, 4, 5], 'f': (0, 203)}\n"
     ]
    }
   ],
   "source": [
    "print(model['inputs'])\n",
    "print(model['key'])"
   ]
  },
  {
   "cell_type": "code",
   "execution_count": 8,
   "metadata": {},
   "outputs": [],
   "source": [
    "with open(\"../PASSIVES_RBF_IND_5G_SRF7_200GHz_tmtt.model\",'wb') as outfile:\n",
    "    pickle.dump(model, outfile)  \n"
   ]
  },
  {
   "cell_type": "code",
   "execution_count": 9,
   "metadata": {},
   "outputs": [],
   "source": []
  },
  {
   "cell_type": "code",
   "execution_count": 10,
   "metadata": {},
   "outputs": [],
   "source": [
    "with open('../RBF_transf_28G_SRF38.model','rb') as infile:\n",
    "    trans = pickle.load( infile)"
   ]
  },
  {
   "cell_type": "code",
   "execution_count": 14,
   "metadata": {},
   "outputs": [],
   "source": [
    "trans['device'] = 'transf'\n",
    "trans['ranges'] = {'dinp': (30, 190), 'wp': (4, 14), 'np': (1,1), 'dins': (30, 190), 'ws': (4, 14), 'ns': (1,1), 'freq': (0, 200)}"
   ]
  },
  {
   "cell_type": "code",
   "execution_count": 11,
   "metadata": {},
   "outputs": [
    {
     "name": "stdout",
     "output_type": "stream",
     "text": [
      "['Dinp', 'Wp', 'Dins', 'Ws']\n",
      "{'nt': [(1, 1, '_balun'), (1, 1, '')], 'f': (0, 201)}\n"
     ]
    }
   ],
   "source": [
    "print(trans['inputs'])\n",
    "print(trans['key'])"
   ]
  },
  {
   "cell_type": "code",
   "execution_count": 15,
   "metadata": {},
   "outputs": [],
   "source": [
    "with open(\"../PASSIVES_RBF_TRANSF_28G_SRF38.model\",'wb') as outfile:\n",
    "    pickle.dump(trans, outfile)  "
   ]
  },
  {
   "cell_type": "code",
   "execution_count": 18,
   "metadata": {},
   "outputs": [],
   "source": [
    "with open('../RBF_transf_77G_SRF87.model','rb') as infile:\n",
    "    trans = pickle.load( infile)"
   ]
  },
  {
   "cell_type": "code",
   "execution_count": 19,
   "metadata": {},
   "outputs": [
    {
     "name": "stdout",
     "output_type": "stream",
     "text": [
      "['Dinp', 'Wp', 'Dins', 'Ws']\n",
      "{'nt': ((1, 1), (2, 2)), 'f': (0, 201)}\n"
     ]
    }
   ],
   "source": [
    "print(trans['inputs'])\n",
    "print(trans['key'])"
   ]
  },
  {
   "cell_type": "code",
   "execution_count": 14,
   "metadata": {},
   "outputs": [],
   "source": [
    "#turn and freq independent @ 5GHz SRF > 7GHz\n",
    "import pickle\n",
    "import em\n",
    "import importlib\n",
    "\n",
    "importlib.reload(models)\n",
    "\n",
    "np.random.seed(1234)\n",
    "tf.random.set_seed(1234)\n",
    "\n",
    "model_table = {}\n",
    "for nt in range(1, 6):\n",
    "    for f in range(204):\n",
    "        freq, x_train, y_train, x_test, y_test, srf_data = models.load_data(data_folder, f, nt = nt, srf=7.0, skip_test=True)\n",
    "        m = models.RBFInterpolatorModel(degree=4)\n",
    "        m.fit(x_train, y_train)\n",
    "        mdl = {\n",
    "            'freq_index': f,\n",
    "            'freq': freq[0],\n",
    "            'nt': nt,\n",
    "            'RBFmodel': m\n",
    "        }\n",
    "\n",
    "        model_table[(nt, f)] = mdl\n",
    "    \n",
    "    srf_m = models.RBFInterpolatorModel(degree=2)\n",
    "    srf_m.fit(srf_data[0], srf_data[1])        \n",
    "    srf_mdl = {\n",
    "            'srf_limit': 7,\n",
    "            'nt': nt,\n",
    "            'RBFmodel': srf_m\n",
    "    }\n",
    "    model_table[(nt, 'srf')] = srf_mdl\n",
    "\n",
    "\n",
    "model_table['inputs'] = ['Din', 'W']\n",
    "model_table['ouputs'] = em.COLUMNS_2P[1:]\n",
    "model_table['model'] = 'ind'\n",
    "model_table['key'] = {'nt': [1, 2, 3, 4 ,5], 'f':(0, 203)}\n",
    "\n",
    "with open(\"../RBF_inductor_5G_SRF7_200GHz_tmtt.model\",'wb') as outfile:\n",
    "    pickle.dump(model_table, outfile)    \n"
   ]
  },
  {
   "cell_type": "code",
   "execution_count": null,
   "metadata": {},
   "outputs": [],
   "source": [
    "def create_model(fname, data_folder):\n",
    "    model_table = {}\n",
    "    for nt in range(1, 6):\n",
    "        for f in range(204):\n",
    "            freq, x_train, y_train, x_test, y_test, srf_data = models.load_data(data_folder, f, nt = nt, srf=7.0, skip_test=True)\n",
    "            m = models.RBFInterpolatorModel(degree=4)\n",
    "            m.fit(x_train, y_train)\n",
    "            mdl = {\n",
    "                'freq_index': f,\n",
    "                'freq': freq[0],\n",
    "                'nt': nt,\n",
    "                'RBFmodel': m\n",
    "            }\n",
    "\n",
    "            model_table[(nt, f)] = mdl\n",
    "        \n",
    "        srf_m = models.RBFInterpolatorModel(degree=2)\n",
    "        srf_m.fit(srf_data[0], srf_data[1])        \n",
    "        srf_mdl = {\n",
    "                'srf_limit': 7,\n",
    "                'nt': nt,\n",
    "                'RBFmodel': srf_m\n",
    "        }\n",
    "        model_table[(nt, 'srf')] = srf_mdl\n",
    "\n",
    "\n",
    "    model_table['inputs'] = ['Din', 'W']\n",
    "    model_table['ouputs'] = em.COLUMNS_2P[1:]\n",
    "    model_table['model'] = 'ind'\n",
    "    model_table['key'] = {'nt': [1, 2, 3, 4 ,5], 'f':(0, 203)}\n",
    "\n",
    "    with open(fname,'wb') as outfile:\n",
    "        pickle.dump(model_table, outfile) "
   ]
  },
  {
   "cell_type": "code",
   "execution_count": null,
   "metadata": {},
   "outputs": [],
   "source": [
    "create_model('test_model.model', '../data/inductGR_350nm_200GHz/')"
   ]
  }
 ],
 "metadata": {
  "interpreter": {
   "hash": "0e5760e712c30506cacfbb8d55a91dfa6d917c7cae71b450333e4dc838792f2f"
  },
  "kernelspec": {
   "display_name": "Python 3 (ipykernel)",
   "language": "python",
   "name": "python3"
  },
  "language_info": {
   "codemirror_mode": {
    "name": "ipython",
    "version": 3
   },
   "file_extension": ".py",
   "mimetype": "text/x-python",
   "name": "python",
   "nbconvert_exporter": "python",
   "pygments_lexer": "ipython3",
   "version": "3.8.5"
  }
 },
 "nbformat": 4,
 "nbformat_minor": 2
}
